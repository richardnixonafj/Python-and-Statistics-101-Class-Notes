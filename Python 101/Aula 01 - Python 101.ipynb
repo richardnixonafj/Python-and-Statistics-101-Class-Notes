{
 "cells": [
  {
   "cell_type": "markdown",
   "metadata": {},
   "source": [
    "# Aula 01 - Python 101\n",
    "\n",
    "Trechos de código úteis para a aula 01."
   ]
  },
  {
   "cell_type": "markdown",
   "metadata": {},
   "source": [
    "## Algoritmos Sequenciais"
   ]
  },
  {
   "cell_type": "markdown",
   "metadata": {},
   "source": [
    "Problema: Escreva um algoritmo em que leia dois números, calcule a média aritmética entre esses dois valores e mostre o resultado na tela do computador."
   ]
  },
  {
   "cell_type": "code",
   "execution_count": null,
   "metadata": {},
   "outputs": [],
   "source": [
    "print('Escreva o valor da primeira variável:')\n",
    "a = int(input())\n",
    "print('Escreva o valor da segunda variável:')\n",
    "b = int(input())"
   ]
  },
  {
   "cell_type": "code",
   "execution_count": null,
   "metadata": {},
   "outputs": [],
   "source": [
    "media = (a + b)/2"
   ]
  },
  {
   "cell_type": "code",
   "execution_count": null,
   "metadata": {},
   "outputs": [],
   "source": [
    "print(f'A média entre {a} e {b} é {media}')"
   ]
  },
  {
   "cell_type": "code",
   "execution_count": null,
   "metadata": {},
   "outputs": [],
   "source": [
    "not 0 and 0 or 0"
   ]
  },
  {
   "cell_type": "code",
   "execution_count": null,
   "metadata": {},
   "outputs": [],
   "source": [
    "not (0 and 0) or 0"
   ]
  },
  {
   "cell_type": "markdown",
   "metadata": {},
   "source": [
    "## Algoritmos com Alternativas"
   ]
  },
  {
   "cell_type": "markdown",
   "metadata": {},
   "source": [
    "Exemplo 1: Escreva um algoritmo para calcular a área de um círculo, fornecido o valor do raio, que deve ser positivo. Em seguida o algoritmo deve imprimir o valor da área na tela do computador."
   ]
  },
  {
   "cell_type": "code",
   "execution_count": null,
   "metadata": {},
   "outputs": [],
   "source": [
    "raio = int(input('Digite o valor do raio: '))\n",
    "\n",
    "if raio > 0:\n",
    "    area = 3.14*(raio**2)\n",
    "    print(f'A área é de {area}')\n",
    "\n",
    "if raio <= 0:\n",
    "    print('Raio inválido! Deve ser nulo ou positivo!')"
   ]
  },
  {
   "cell_type": "code",
   "execution_count": null,
   "metadata": {},
   "outputs": [],
   "source": [
    "raio = int(input('Digite o valor do raio: '))\n",
    "\n",
    "if raio > 0:\n",
    "    print('Calculei a parada toda...')\n",
    "else:\n",
    "    print('Valor inválido')\n",
    "    "
   ]
  },
  {
   "cell_type": "markdown",
   "metadata": {},
   "source": [
    "Exemplo 2: Escreva um algoritmo que lê o valor da mercadoria, calcula e mostra o valor final a ser pago incluindo, se for o caso, a taxa de embrulho para presente que é de R$ 1,50."
   ]
  },
  {
   "cell_type": "code",
   "execution_count": null,
   "metadata": {},
   "outputs": [],
   "source": [
    "valor = float(input('Informe o valor da mercadoria: '))\n",
    "embrulho = input('Deseja embrulhar para presente (s ou n)?')\n",
    "\n",
    "if embrulho == 's':\n",
    "    valor += 1.5\n",
    "\n",
    "print('Total a pagar: R$ %.2f' % valor)"
   ]
  },
  {
   "cell_type": "markdown",
   "metadata": {},
   "source": [
    "Refazendo o Exemplo 1..."
   ]
  },
  {
   "cell_type": "code",
   "execution_count": null,
   "metadata": {},
   "outputs": [],
   "source": [
    "raio = int(input('Digite o valor do raio: '))\n",
    "\n",
    "if raio > 0:\n",
    "    area = 3.14*(raio**2)\n",
    "    print(f'A área é de {area}')\n",
    "else:\n",
    "    print('Raio inválido! Deve ser nulo ou positivo!')"
   ]
  },
  {
   "cell_type": "markdown",
   "metadata": {},
   "source": [
    "Exemplo 3: Escreva um algoritmo que solicita ao usuário dois operandos e um código de operação (1 - Soma, 2 - Subtração, 3 - Divisão ou 4 - Multiplicação) e realiza a operação correspondente sobre os operandos fornecidos pelo usuário."
   ]
  },
  {
   "cell_type": "code",
   "execution_count": null,
   "metadata": {},
   "outputs": [],
   "source": [
    "operando1 = float(input('Entre com o primeiro operando: '))\n",
    "operando2 = float(input('Entre com o segundo operando: '))\n",
    "\n",
    "print('*****************************')\n",
    "print('             MENU            ')\n",
    "print('*****************************')\n",
    "print('1 - Soma')\n",
    "print('2 - Subtração')\n",
    "print('3 - Divisão')\n",
    "print('4 - Multiplicação')\n",
    "operacao = int(input('Digite o número da operação desejada: '))\n",
    "\n",
    "if operacao == 1:\n",
    "    resultado = operando1 + operando2\n",
    "elif operacao == 2:\n",
    "    resultado = operando1 - operando2\n",
    "elif operacao == 3:\n",
    "    resultado = operando1 / operando2\n",
    "elif operacao == 4:\n",
    "    resultado = operando1 * operando2\n",
    "else:\n",
    "    print('Operação inválida!')\n",
    "    \n",
    "print(f'O resultado da operação é {resultado}')"
   ]
  },
  {
   "cell_type": "markdown",
   "metadata": {},
   "source": [
    "## Algoritmos com Repetições"
   ]
  },
  {
   "cell_type": "markdown",
   "metadata": {},
   "source": [
    "Exemplo 1: Escreva um algoritmo que solicita ao usuário um valor inteiro positivo N e imprime na tela do computador todos os número inteiros de 0 a N."
   ]
  },
  {
   "cell_type": "code",
   "execution_count": null,
   "metadata": {},
   "outputs": [],
   "source": [
    "N = int(input('Digite o valor de N: '))\n",
    "\n",
    "contador = 0\n",
    "\n",
    "while contador <= N:\n",
    "    print(contador)\n",
    "    contador += 1"
   ]
  },
  {
   "cell_type": "markdown",
   "metadata": {},
   "source": [
    "Antes de continuar, vamos ver a função ``range(x, y)``. Ela gera uma lista de números que vão de ``x`` até ``y - 1``."
   ]
  },
  {
   "cell_type": "code",
   "execution_count": null,
   "metadata": {},
   "outputs": [],
   "source": [
    "range(0, 5)"
   ]
  },
  {
   "cell_type": "markdown",
   "metadata": {},
   "source": [
    "Se quisermos que o início seja em zero, podemos simplesmente omitir o primeiro parâmetro."
   ]
  },
  {
   "cell_type": "code",
   "execution_count": null,
   "metadata": {},
   "outputs": [],
   "source": [
    "range(5)"
   ]
  },
  {
   "cell_type": "markdown",
   "metadata": {},
   "source": [
    "Vamos ver o intervalo desses valores:"
   ]
  },
  {
   "cell_type": "code",
   "execution_count": null,
   "metadata": {},
   "outputs": [],
   "source": [
    "list(range(5))"
   ]
  },
  {
   "cell_type": "markdown",
   "metadata": {},
   "source": [
    "Também podemos definir um valor de incremento:"
   ]
  },
  {
   "cell_type": "code",
   "execution_count": null,
   "metadata": {},
   "outputs": [],
   "source": [
    "list(range(0, 20, 5))"
   ]
  },
  {
   "cell_type": "markdown",
   "metadata": {},
   "source": [
    "Agora sim podemos continuar. Outra estrutura de repetição é o ``for``."
   ]
  },
  {
   "cell_type": "code",
   "execution_count": null,
   "metadata": {},
   "outputs": [],
   "source": [
    "for valor in range(5):\n",
    "    print(valor)"
   ]
  },
  {
   "cell_type": "code",
   "execution_count": null,
   "metadata": {},
   "outputs": [],
   "source": [
    "for valor in [1, 2, 3, 7, 8]:\n",
    "    print(valor)"
   ]
  },
  {
   "cell_type": "markdown",
   "metadata": {},
   "source": [
    "Tudo o que fazemos com o ``for`` pode ser feito com o ``while`` e vice-versa. Vai do gosto do freguês. Note que as próximas duas células realizam a mesma tarefa."
   ]
  },
  {
   "cell_type": "code",
   "execution_count": null,
   "metadata": {},
   "outputs": [],
   "source": [
    "for i in range(5):\n",
    "    print(i)"
   ]
  },
  {
   "cell_type": "code",
   "execution_count": null,
   "metadata": {},
   "outputs": [],
   "source": [
    "i = 0\n",
    "\n",
    "while i < 5:\n",
    "    print(i)\n",
    "    i += 1"
   ]
  },
  {
   "cell_type": "markdown",
   "metadata": {},
   "source": [
    "## Funções"
   ]
  },
  {
   "cell_type": "markdown",
   "metadata": {},
   "source": [
    "Função são nada mais, nada menos do que um bloco de código ao qual damos um nome. A grande vantagem é que escrevemos aquele código apenas uma vez e, então, podemos utilizá-lo por quantas vezes quisermos.\n",
    "\n",
    "Para criar uma função, devemos primeiro definí-la. Precisamos de 4 elementos para isso:\n",
    "- O uso da palavra reservada ``def``\n",
    "- O identificador da função (um nome para ela)\n",
    "- Seus parâmetros entre parênteses\n",
    "- Seu corpo\n",
    "\n",
    "A célula abaixo define uma função que calcula o valor de ``1 + 2`` e o imprime na tela. Note que ela apenas define a função. Ela só é executada na celula seguinte."
   ]
  },
  {
   "cell_type": "code",
   "execution_count": null,
   "metadata": {},
   "outputs": [],
   "source": [
    "def soma():\n",
    "    resultado = 1 + 2\n",
    "    print(f'O resultado é {resultado}')"
   ]
  },
  {
   "cell_type": "code",
   "execution_count": null,
   "metadata": {},
   "outputs": [],
   "source": [
    "soma()"
   ]
  },
  {
   "cell_type": "markdown",
   "metadata": {},
   "source": [
    "Também é possível parametrizar os valores que a função irá utilizar. Para isso, basta adicionar os nomes dos parâmetros na definição da função e utilizá-los como variáveis."
   ]
  },
  {
   "cell_type": "code",
   "execution_count": null,
   "metadata": {},
   "outputs": [],
   "source": [
    "def somar_dois_numeros(numero1, numero2):\n",
    "    resultado = numero1 + numero2\n",
    "    print(f'A soma de {numero1} com {numero2} é igual a {resultado}')"
   ]
  },
  {
   "cell_type": "code",
   "execution_count": null,
   "metadata": {},
   "outputs": [],
   "source": [
    "somar_dois_numeros(7, 10)"
   ]
  },
  {
   "cell_type": "markdown",
   "metadata": {},
   "source": [
    "Outro recurso muito útil é a definição de valores padrões para alguns parâmetros. Veja abaixo."
   ]
  },
  {
   "cell_type": "code",
   "execution_count": null,
   "metadata": {},
   "outputs": [],
   "source": [
    "def somar(valor_inicial, valor_a_ser_somado=1):\n",
    "    resultado = valor_inicial + valor_a_ser_somado\n",
    "    print(f'O resultado é {resultado}')"
   ]
  },
  {
   "cell_type": "code",
   "execution_count": null,
   "metadata": {},
   "outputs": [],
   "source": [
    "somar(10)"
   ]
  },
  {
   "cell_type": "code",
   "execution_count": null,
   "metadata": {},
   "outputs": [],
   "source": [
    "somar(10, 5)"
   ]
  },
  {
   "cell_type": "markdown",
   "metadata": {},
   "source": [
    "Por fim, o recurso que mais iremos utilizar não é a impressão do valor na tela. Geralmente, queremos realizar um cálculo e armazenar seu resultado em uma variável. Para isso, utilizamos a palavra reserva ``return``, que serve para retornar o resultado obtido dentro de uma função."
   ]
  },
  {
   "cell_type": "code",
   "execution_count": null,
   "metadata": {},
   "outputs": [],
   "source": [
    "def somar_dois_numeros(numero1, numero2):\n",
    "    resultado = numero1 + numero2\n",
    "    \n",
    "    return resultado"
   ]
  },
  {
   "cell_type": "code",
   "execution_count": null,
   "metadata": {},
   "outputs": [],
   "source": [
    "res = somar_dois_numeros(7, 10)\n",
    "\n",
    "res"
   ]
  },
  {
   "cell_type": "markdown",
   "metadata": {},
   "source": [
    "## Exercícios"
   ]
  },
  {
   "cell_type": "markdown",
   "metadata": {},
   "source": [
    "1. Escreva um programa que encontre os números de 1500 até 2700 que são divisíveis por 7 e múltiplos de 5. Crie uma lista com esses números e a imprima na tela. Resolva este exercício de duas formas: utilizando ``for`` e depois utilizando ``while``."
   ]
  },
  {
   "cell_type": "code",
   "execution_count": null,
   "metadata": {},
   "outputs": [],
   "source": [
    "lista = []\n",
    "for x in range(1500, 2701):\n",
    "    if (x%7 == 0) and (x%5 == 0):\n",
    "        lista.append(x)\n",
    "\n",
    "print(lista)"
   ]
  },
  {
   "cell_type": "markdown",
   "metadata": {},
   "source": [
    "2. Escreva um programa que some dois números. Se a soma for menor do que 10, deve ser impresso na tela \"muito pouco!\"; se a soma for maior ou igual a 10 e menor do que 20, deve imprimir \"valor mediano\"; se for qualquer outro valor, deve imprimir \"espertinho, se livrou!\"."
   ]
  },
  {
   "cell_type": "code",
   "execution_count": null,
   "metadata": {},
   "outputs": [],
   "source": [
    "numero1 = int(input('Digite o primeiro número: '))\n",
    "numero2 = int(input('Digite o segundo número: '))\n",
    "\n",
    "soma = numero1 + numero2\n",
    "\n",
    "if soma < 10:\n",
    "    print('muito pouco!')\n",
    "elif soma >= 10 and soma < 20:\n",
    "    print('valor mediano')\n",
    "else:\n",
    "    print('espertinho, se livrou!')"
   ]
  },
  {
   "cell_type": "markdown",
   "metadata": {},
   "source": [
    "3. Escreva uma função que receba como parâmetro de entrada um valor real indicando uma temperatura em graus celsius e que retorne a temperatura equivalente em fahrenheit."
   ]
  },
  {
   "cell_type": "code",
   "execution_count": null,
   "metadata": {},
   "outputs": [],
   "source": [
    "def celsius_to_fahrenheit(c):\n",
    "    f = (c/5)*9 + 32\n",
    "    \n",
    "    return f"
   ]
  },
  {
   "cell_type": "code",
   "execution_count": null,
   "metadata": {},
   "outputs": [],
   "source": [
    "celsius_to_fahrenheit(40)"
   ]
  },
  {
   "cell_type": "markdown",
   "metadata": {},
   "source": [
    "4. Reescreva a função do exercício anterior adicionando a seguinte funcionalidade: deve ser inserido mais um parâmetro, que receberá uma única letra. Caso a letra fornecida seja \"c\" (indicando que a temperatura fornecida está em celsius), devemos converter a temperatura para fahrenheit. Caso a letra fornecida seja \"f\" (indicando que a temperatura fornecida está em fahrenheit), devemos converter a temperatura para celsius. Retorne o valor convertido."
   ]
  },
  {
   "cell_type": "code",
   "execution_count": null,
   "metadata": {},
   "outputs": [],
   "source": [
    "def convert_temperature(temp, unit):\n",
    "    if unit == 'c':\n",
    "        new_temp = (temp/5)*9 + 32\n",
    "    elif unit == 'f':\n",
    "        new_temp = ((temp - 32)*5)/9\n",
    "        \n",
    "    return new_temp"
   ]
  },
  {
   "cell_type": "code",
   "execution_count": null,
   "metadata": {},
   "outputs": [],
   "source": [
    "f = convert_temperature(100, 'c')\n",
    "print(f'100 celsius is {f} fahrenheit')\n",
    "\n",
    "c = convert_temperature(212, 'f')\n",
    "print(f'212 fahrenheit is {c} celsius')"
   ]
  },
  {
   "cell_type": "markdown",
   "metadata": {},
   "source": [
    "5. Escreva um código que imprima o padrão abaixo utilizando loops ``for``:\n",
    "\n",
    "\\*\n",
    "\n",
    "\\* \\*\n",
    "\n",
    "\\* \\* \\*\n",
    "\n",
    "\\* \\* \\* \\*\n",
    "\n",
    "\\* \\* \\* \\* \\*\n",
    "\n",
    "\\* \\* \\* \\*\n",
    "\n",
    "\\* \\* \\*\n",
    "\n",
    "\\* \\*\n",
    "\n",
    "\\*"
   ]
  },
  {
   "cell_type": "code",
   "execution_count": null,
   "metadata": {},
   "outputs": [],
   "source": [
    "n=5\n",
    "\n",
    "for i in range(n):\n",
    "    for j in range(i):\n",
    "        print('*', end=' ')\n",
    "    print('')\n",
    "\n",
    "for i in range(n, 0, -1):\n",
    "    for j in range(i):\n",
    "        print('*', end=' ')\n",
    "    print('')"
   ]
  }
 ],
 "metadata": {
  "kernelspec": {
   "display_name": "Python 3",
   "language": "python",
   "name": "python3"
  },
  "language_info": {
   "codemirror_mode": {
    "name": "ipython",
    "version": 3
   },
   "file_extension": ".py",
   "mimetype": "text/x-python",
   "name": "python",
   "nbconvert_exporter": "python",
   "pygments_lexer": "ipython3",
   "version": "3.8.3"
  }
 },
 "nbformat": 4,
 "nbformat_minor": 4
}
