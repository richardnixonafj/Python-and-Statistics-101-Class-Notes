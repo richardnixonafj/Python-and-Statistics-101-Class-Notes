{
  "nbformat": 4,
  "nbformat_minor": 0,
  "metadata": {
    "kernelspec": {
      "display_name": "Python 3",
      "language": "python",
      "name": "python3"
    },
    "language_info": {
      "codemirror_mode": {
        "name": "ipython",
        "version": 3
      },
      "file_extension": ".py",
      "mimetype": "text/x-python",
      "name": "python",
      "nbconvert_exporter": "python",
      "pygments_lexer": "ipython3",
      "version": "3.8.5"
    },
    "colab": {
      "name": "Python-and-Statistics-101-First-Project.ipynb",
      "provenance": [],
      "include_colab_link": true
    }
  },
  "cells": [
    {
      "cell_type": "markdown",
      "metadata": {
        "id": "view-in-github",
        "colab_type": "text"
      },
      "source": [
        "<a href=\"https://colab.research.google.com/github/richardnixonafj/Python-and-Statistics-101-Class-Notes/blob/main/colab_Python_and_Statistics_101_First_Project.ipynb\" target=\"_parent\"><img src=\"https://colab.research.google.com/assets/colab-badge.svg\" alt=\"Open In Colab\"/></a>"
      ]
    },
    {
      "cell_type": "markdown",
      "metadata": {
        "id": "dWKiIxPTTWpn"
      },
      "source": [
        "# Python-and-Statistics-101-Class-Notes\n",
        "\n",
        "##### Não é permitido o uso de métodos nem funções prontos na linguagem Python que calculam diretamente os resultados (média, mediana, variância, desvio padrão, MAD e valores de correlação). Cálculos de quantidade de elementos e soma dos elementos podem sim ser realizados por meio de funções já fornecidas pela própria linguagem.\n",
        "\n",
        "##### As análises acimas compõem os resultados mínimos esperados no trabalho, então sinta-se incentivado a realizar análises extras. Note que, de acordo com as análises extras que você decidir realizar, este trabalho introduz o conceito de variáveis categóricas (variáveis que assumem valores específicos, não contínuos - como palavras). Um link que pode vir a ser útil é o seguinte: https://medium.com/@outside2SDs/an-overview-of-correlation-measures-between-categorical-and-continuous-variables-4c7f85610365\n",
        "\n",
        "##### Deverá ser montada uma apresentação de, no máximo, 10 minutos por grupo (cada grupo deve conter, no máximo, 3 pessoas). Essa apresentação deve conter apenas análises e resultados, não podendo ser apresentados trechos de código. Entretanto, o grupo deve ter o código disponível e pronto para execução caso o professor avaliador deseje esclarecimentos sobre alguma técnica ou trecho de código."
      ]
    },
    {
      "cell_type": "code",
      "metadata": {
        "colab": {
          "base_uri": "https://localhost:8080/"
        },
        "id": "wJdfXxzFTWpp",
        "outputId": "8315b958-c382-4e62-dcae-18b4293c4dde"
      },
      "source": [
        "import pandas as pd\n",
        "import random\n",
        "import statistics as st\n",
        "import matplotlib.pyplot as plt\n",
        "from pandas_profiling import ProfileReport\n",
        "import numpy as np\n",
        "from google.colab import drive\n",
        "drive.mount('/content/drive')"
      ],
      "execution_count": 9,
      "outputs": [
        {
          "output_type": "stream",
          "text": [
            "Drive already mounted at /content/drive; to attempt to forcibly remount, call drive.mount(\"/content/drive\", force_remount=True).\n"
          ],
          "name": "stdout"
        }
      ]
    },
    {
      "cell_type": "code",
      "metadata": {
        "id": "q1tOU60UTWpp"
      },
      "source": [
        "df = pd.read_csv(\"drive/My Drive/StudentsPerformance.csv\")"
      ],
      "execution_count": 10,
      "outputs": []
    },
    {
      "cell_type": "code",
      "metadata": {
        "colab": {
          "base_uri": "https://localhost:8080/",
          "height": 204
        },
        "id": "f0HwumQoTWpp",
        "outputId": "7dd1cf4a-3a39-49f2-fe20-8f23df15a077"
      },
      "source": [
        "df.head()"
      ],
      "execution_count": 11,
      "outputs": [
        {
          "output_type": "execute_result",
          "data": {
            "text/html": [
              "<div>\n",
              "<style scoped>\n",
              "    .dataframe tbody tr th:only-of-type {\n",
              "        vertical-align: middle;\n",
              "    }\n",
              "\n",
              "    .dataframe tbody tr th {\n",
              "        vertical-align: top;\n",
              "    }\n",
              "\n",
              "    .dataframe thead th {\n",
              "        text-align: right;\n",
              "    }\n",
              "</style>\n",
              "<table border=\"1\" class=\"dataframe\">\n",
              "  <thead>\n",
              "    <tr style=\"text-align: right;\">\n",
              "      <th></th>\n",
              "      <th>gender</th>\n",
              "      <th>race/ethnicity</th>\n",
              "      <th>parental level of education</th>\n",
              "      <th>lunch</th>\n",
              "      <th>test preparation course</th>\n",
              "      <th>math score</th>\n",
              "      <th>reading score</th>\n",
              "      <th>writing score</th>\n",
              "    </tr>\n",
              "  </thead>\n",
              "  <tbody>\n",
              "    <tr>\n",
              "      <th>0</th>\n",
              "      <td>female</td>\n",
              "      <td>group B</td>\n",
              "      <td>bachelor's degree</td>\n",
              "      <td>standard</td>\n",
              "      <td>none</td>\n",
              "      <td>72</td>\n",
              "      <td>72</td>\n",
              "      <td>74</td>\n",
              "    </tr>\n",
              "    <tr>\n",
              "      <th>1</th>\n",
              "      <td>female</td>\n",
              "      <td>group C</td>\n",
              "      <td>some college</td>\n",
              "      <td>standard</td>\n",
              "      <td>completed</td>\n",
              "      <td>69</td>\n",
              "      <td>90</td>\n",
              "      <td>88</td>\n",
              "    </tr>\n",
              "    <tr>\n",
              "      <th>2</th>\n",
              "      <td>female</td>\n",
              "      <td>group B</td>\n",
              "      <td>master's degree</td>\n",
              "      <td>standard</td>\n",
              "      <td>none</td>\n",
              "      <td>90</td>\n",
              "      <td>95</td>\n",
              "      <td>93</td>\n",
              "    </tr>\n",
              "    <tr>\n",
              "      <th>3</th>\n",
              "      <td>male</td>\n",
              "      <td>group A</td>\n",
              "      <td>associate's degree</td>\n",
              "      <td>free/reduced</td>\n",
              "      <td>none</td>\n",
              "      <td>47</td>\n",
              "      <td>57</td>\n",
              "      <td>44</td>\n",
              "    </tr>\n",
              "    <tr>\n",
              "      <th>4</th>\n",
              "      <td>male</td>\n",
              "      <td>group C</td>\n",
              "      <td>some college</td>\n",
              "      <td>standard</td>\n",
              "      <td>none</td>\n",
              "      <td>76</td>\n",
              "      <td>78</td>\n",
              "      <td>75</td>\n",
              "    </tr>\n",
              "  </tbody>\n",
              "</table>\n",
              "</div>"
            ],
            "text/plain": [
              "   gender race/ethnicity  ... reading score writing score\n",
              "0  female        group B  ...            72            74\n",
              "1  female        group C  ...            90            88\n",
              "2  female        group B  ...            95            93\n",
              "3    male        group A  ...            57            44\n",
              "4    male        group C  ...            78            75\n",
              "\n",
              "[5 rows x 8 columns]"
            ]
          },
          "metadata": {
            "tags": []
          },
          "execution_count": 11
        }
      ]
    },
    {
      "cell_type": "code",
      "metadata": {
        "colab": {
          "base_uri": "https://localhost:8080/"
        },
        "id": "Ha_RRrhPTWpq",
        "outputId": "7307dbc8-3522-48f5-f948-40bc4e3b9bce"
      },
      "source": [
        "df.info()"
      ],
      "execution_count": 12,
      "outputs": [
        {
          "output_type": "stream",
          "text": [
            "<class 'pandas.core.frame.DataFrame'>\n",
            "RangeIndex: 1000 entries, 0 to 999\n",
            "Data columns (total 8 columns):\n",
            " #   Column                       Non-Null Count  Dtype \n",
            "---  ------                       --------------  ----- \n",
            " 0   gender                       1000 non-null   object\n",
            " 1   race/ethnicity               1000 non-null   object\n",
            " 2   parental level of education  1000 non-null   object\n",
            " 3   lunch                        1000 non-null   object\n",
            " 4   test preparation course      1000 non-null   object\n",
            " 5   math score                   1000 non-null   int64 \n",
            " 6   reading score                1000 non-null   int64 \n",
            " 7   writing score                1000 non-null   int64 \n",
            "dtypes: int64(3), object(5)\n",
            "memory usage: 62.6+ KB\n"
          ],
          "name": "stdout"
        }
      ]
    },
    {
      "cell_type": "code",
      "metadata": {
        "colab": {
          "base_uri": "https://localhost:8080/"
        },
        "id": "J_YLe3CTTWpq",
        "outputId": "313ec06d-f174-48ea-948c-6456d24b82ff"
      },
      "source": [
        "print (df.shape)"
      ],
      "execution_count": 13,
      "outputs": [
        {
          "output_type": "stream",
          "text": [
            "(1000, 8)\n"
          ],
          "name": "stdout"
        }
      ]
    },
    {
      "cell_type": "code",
      "metadata": {
        "colab": {
          "base_uri": "https://localhost:8080/",
          "height": 297
        },
        "id": "mn_bYxQkTWpr",
        "outputId": "48894a86-4839-408c-836b-4859f740051a"
      },
      "source": [
        "df.describe()"
      ],
      "execution_count": 14,
      "outputs": [
        {
          "output_type": "execute_result",
          "data": {
            "text/html": [
              "<div>\n",
              "<style scoped>\n",
              "    .dataframe tbody tr th:only-of-type {\n",
              "        vertical-align: middle;\n",
              "    }\n",
              "\n",
              "    .dataframe tbody tr th {\n",
              "        vertical-align: top;\n",
              "    }\n",
              "\n",
              "    .dataframe thead th {\n",
              "        text-align: right;\n",
              "    }\n",
              "</style>\n",
              "<table border=\"1\" class=\"dataframe\">\n",
              "  <thead>\n",
              "    <tr style=\"text-align: right;\">\n",
              "      <th></th>\n",
              "      <th>math score</th>\n",
              "      <th>reading score</th>\n",
              "      <th>writing score</th>\n",
              "    </tr>\n",
              "  </thead>\n",
              "  <tbody>\n",
              "    <tr>\n",
              "      <th>count</th>\n",
              "      <td>1000.00000</td>\n",
              "      <td>1000.000000</td>\n",
              "      <td>1000.000000</td>\n",
              "    </tr>\n",
              "    <tr>\n",
              "      <th>mean</th>\n",
              "      <td>66.08900</td>\n",
              "      <td>69.169000</td>\n",
              "      <td>68.054000</td>\n",
              "    </tr>\n",
              "    <tr>\n",
              "      <th>std</th>\n",
              "      <td>15.16308</td>\n",
              "      <td>14.600192</td>\n",
              "      <td>15.195657</td>\n",
              "    </tr>\n",
              "    <tr>\n",
              "      <th>min</th>\n",
              "      <td>0.00000</td>\n",
              "      <td>17.000000</td>\n",
              "      <td>10.000000</td>\n",
              "    </tr>\n",
              "    <tr>\n",
              "      <th>25%</th>\n",
              "      <td>57.00000</td>\n",
              "      <td>59.000000</td>\n",
              "      <td>57.750000</td>\n",
              "    </tr>\n",
              "    <tr>\n",
              "      <th>50%</th>\n",
              "      <td>66.00000</td>\n",
              "      <td>70.000000</td>\n",
              "      <td>69.000000</td>\n",
              "    </tr>\n",
              "    <tr>\n",
              "      <th>75%</th>\n",
              "      <td>77.00000</td>\n",
              "      <td>79.000000</td>\n",
              "      <td>79.000000</td>\n",
              "    </tr>\n",
              "    <tr>\n",
              "      <th>max</th>\n",
              "      <td>100.00000</td>\n",
              "      <td>100.000000</td>\n",
              "      <td>100.000000</td>\n",
              "    </tr>\n",
              "  </tbody>\n",
              "</table>\n",
              "</div>"
            ],
            "text/plain": [
              "       math score  reading score  writing score\n",
              "count  1000.00000    1000.000000    1000.000000\n",
              "mean     66.08900      69.169000      68.054000\n",
              "std      15.16308      14.600192      15.195657\n",
              "min       0.00000      17.000000      10.000000\n",
              "25%      57.00000      59.000000      57.750000\n",
              "50%      66.00000      70.000000      69.000000\n",
              "75%      77.00000      79.000000      79.000000\n",
              "max     100.00000     100.000000     100.000000"
            ]
          },
          "metadata": {
            "tags": []
          },
          "execution_count": 14
        }
      ]
    },
    {
      "cell_type": "code",
      "metadata": {
        "colab": {
          "base_uri": "https://localhost:8080/"
        },
        "id": "Yyfm3VaRTWpr",
        "outputId": "81a2b1b5-9aff-4ae2-d0b1-acaf06f4c188"
      },
      "source": [
        "df.isnull().sum()"
      ],
      "execution_count": 15,
      "outputs": [
        {
          "output_type": "execute_result",
          "data": {
            "text/plain": [
              "gender                         0\n",
              "race/ethnicity                 0\n",
              "parental level of education    0\n",
              "lunch                          0\n",
              "test preparation course        0\n",
              "math score                     0\n",
              "reading score                  0\n",
              "writing score                  0\n",
              "dtype: int64"
            ]
          },
          "metadata": {
            "tags": []
          },
          "execution_count": 15
        }
      ]
    },
    {
      "cell_type": "code",
      "metadata": {
        "colab": {
          "base_uri": "https://localhost:8080/",
          "height": 664
        },
        "id": "gB0L3mHFTWpr",
        "outputId": "9afc0d9f-3a69-410f-f7e5-0637c2ce47f9"
      },
      "source": [
        "profile = ProfileReport(df, title=\"Pandas Profiling Report\", explorative=True)"
      ],
      "execution_count": 16,
      "outputs": [
        {
          "output_type": "error",
          "ename": "TypeError",
          "evalue": "ignored",
          "traceback": [
            "\u001b[0;31m---------------------------------------------------------------------------\u001b[0m",
            "\u001b[0;31mRemoteTraceback\u001b[0m                           Traceback (most recent call last)",
            "\u001b[0;31mRemoteTraceback\u001b[0m: \n\"\"\"\nTraceback (most recent call last):\n  File \"/usr/lib/python3.7/multiprocessing/pool.py\", line 121, in worker\n    result = (True, func(*args, **kwds))\n  File \"/usr/lib/python3.7/multiprocessing/pool.py\", line 44, in mapstar\n    return list(map(*args))\n  File \"/usr/local/lib/python3.7/dist-packages/pandas_profiling/describe.py\", line 282, in multiprocess_func\n    return x[0], describe_1d(x[1], **kwargs)\n  File \"/usr/local/lib/python3.7/dist-packages/pandas_profiling/describe.py\", line 270, in describe_1d\n    result = result.append(describe_numeric_1d(data, **kwargs))\n  File \"/usr/local/lib/python3.7/dist-packages/pandas_profiling/describe.py\", line 54, in describe_numeric_1d\n    stats['histogram'] = histogram(series, **kwargs)\n  File \"/usr/local/lib/python3.7/dist-packages/pandas_profiling/plot.py\", line 73, in histogram\n    plot = _plot_histogram(series, **kwargs)\nTypeError: _plot_histogram() got an unexpected keyword argument 'title'\n\"\"\"",
            "\nThe above exception was the direct cause of the following exception:\n",
            "\u001b[0;31mTypeError\u001b[0m                                 Traceback (most recent call last)",
            "\u001b[0;32m<ipython-input-16-b87dc9af7f06>\u001b[0m in \u001b[0;36m<module>\u001b[0;34m()\u001b[0m\n\u001b[0;32m----> 1\u001b[0;31m \u001b[0mprofile\u001b[0m \u001b[0;34m=\u001b[0m \u001b[0mProfileReport\u001b[0m\u001b[0;34m(\u001b[0m\u001b[0mdf\u001b[0m\u001b[0;34m,\u001b[0m \u001b[0mtitle\u001b[0m\u001b[0;34m=\u001b[0m\u001b[0;34m\"Pandas Profiling Report\"\u001b[0m\u001b[0;34m,\u001b[0m \u001b[0mexplorative\u001b[0m\u001b[0;34m=\u001b[0m\u001b[0;32mTrue\u001b[0m\u001b[0;34m)\u001b[0m\u001b[0;34m\u001b[0m\u001b[0;34m\u001b[0m\u001b[0m\n\u001b[0m",
            "\u001b[0;32m/usr/local/lib/python3.7/dist-packages/pandas_profiling/__init__.py\u001b[0m in \u001b[0;36m__init__\u001b[0;34m(self, df, **kwargs)\u001b[0m\n\u001b[1;32m     64\u001b[0m         \u001b[0msample\u001b[0m \u001b[0;34m=\u001b[0m \u001b[0mkwargs\u001b[0m\u001b[0;34m.\u001b[0m\u001b[0mget\u001b[0m\u001b[0;34m(\u001b[0m\u001b[0;34m'sample'\u001b[0m\u001b[0;34m,\u001b[0m \u001b[0mdf\u001b[0m\u001b[0;34m.\u001b[0m\u001b[0mhead\u001b[0m\u001b[0;34m(\u001b[0m\u001b[0;34m)\u001b[0m\u001b[0;34m)\u001b[0m\u001b[0;34m\u001b[0m\u001b[0;34m\u001b[0m\u001b[0m\n\u001b[1;32m     65\u001b[0m \u001b[0;34m\u001b[0m\u001b[0m\n\u001b[0;32m---> 66\u001b[0;31m         \u001b[0mdescription_set\u001b[0m \u001b[0;34m=\u001b[0m \u001b[0mdescribe\u001b[0m\u001b[0;34m(\u001b[0m\u001b[0mdf\u001b[0m\u001b[0;34m,\u001b[0m \u001b[0;34m**\u001b[0m\u001b[0mkwargs\u001b[0m\u001b[0;34m)\u001b[0m\u001b[0;34m\u001b[0m\u001b[0;34m\u001b[0m\u001b[0m\n\u001b[0m\u001b[1;32m     67\u001b[0m \u001b[0;34m\u001b[0m\u001b[0m\n\u001b[1;32m     68\u001b[0m         self.html = to_html(sample,\n",
            "\u001b[0;32m/usr/local/lib/python3.7/dist-packages/pandas_profiling/describe.py\u001b[0m in \u001b[0;36mdescribe\u001b[0;34m(df, bins, check_correlation, correlation_threshold, correlation_overrides, check_recoded, pool_size, **kwargs)\u001b[0m\n\u001b[1;32m    349\u001b[0m     \u001b[0mpool\u001b[0m \u001b[0;34m=\u001b[0m \u001b[0mmultiprocessing\u001b[0m\u001b[0;34m.\u001b[0m\u001b[0mPool\u001b[0m\u001b[0;34m(\u001b[0m\u001b[0mpool_size\u001b[0m\u001b[0;34m)\u001b[0m\u001b[0;34m\u001b[0m\u001b[0;34m\u001b[0m\u001b[0m\n\u001b[1;32m    350\u001b[0m     \u001b[0mlocal_multiprocess_func\u001b[0m \u001b[0;34m=\u001b[0m \u001b[0mpartial\u001b[0m\u001b[0;34m(\u001b[0m\u001b[0mmultiprocess_func\u001b[0m\u001b[0;34m,\u001b[0m \u001b[0;34m**\u001b[0m\u001b[0mkwargs\u001b[0m\u001b[0;34m)\u001b[0m\u001b[0;34m\u001b[0m\u001b[0;34m\u001b[0m\u001b[0m\n\u001b[0;32m--> 351\u001b[0;31m     \u001b[0mldesc\u001b[0m \u001b[0;34m=\u001b[0m \u001b[0;34m{\u001b[0m\u001b[0mcol\u001b[0m\u001b[0;34m:\u001b[0m \u001b[0ms\u001b[0m \u001b[0;32mfor\u001b[0m \u001b[0mcol\u001b[0m\u001b[0;34m,\u001b[0m \u001b[0ms\u001b[0m \u001b[0;32min\u001b[0m \u001b[0mpool\u001b[0m\u001b[0;34m.\u001b[0m\u001b[0mmap\u001b[0m\u001b[0;34m(\u001b[0m\u001b[0mlocal_multiprocess_func\u001b[0m\u001b[0;34m,\u001b[0m \u001b[0mdf\u001b[0m\u001b[0;34m.\u001b[0m\u001b[0miteritems\u001b[0m\u001b[0;34m(\u001b[0m\u001b[0;34m)\u001b[0m\u001b[0;34m)\u001b[0m\u001b[0;34m}\u001b[0m\u001b[0;34m\u001b[0m\u001b[0;34m\u001b[0m\u001b[0m\n\u001b[0m\u001b[1;32m    352\u001b[0m     \u001b[0mpool\u001b[0m\u001b[0;34m.\u001b[0m\u001b[0mclose\u001b[0m\u001b[0;34m(\u001b[0m\u001b[0;34m)\u001b[0m\u001b[0;34m\u001b[0m\u001b[0;34m\u001b[0m\u001b[0m\n\u001b[1;32m    353\u001b[0m \u001b[0;34m\u001b[0m\u001b[0m\n",
            "\u001b[0;32m/usr/lib/python3.7/multiprocessing/pool.py\u001b[0m in \u001b[0;36mmap\u001b[0;34m(self, func, iterable, chunksize)\u001b[0m\n\u001b[1;32m    266\u001b[0m         \u001b[0;32min\u001b[0m \u001b[0ma\u001b[0m \u001b[0mlist\u001b[0m \u001b[0mthat\u001b[0m \u001b[0;32mis\u001b[0m \u001b[0mreturned\u001b[0m\u001b[0;34m.\u001b[0m\u001b[0;34m\u001b[0m\u001b[0;34m\u001b[0m\u001b[0m\n\u001b[1;32m    267\u001b[0m         '''\n\u001b[0;32m--> 268\u001b[0;31m         \u001b[0;32mreturn\u001b[0m \u001b[0mself\u001b[0m\u001b[0;34m.\u001b[0m\u001b[0m_map_async\u001b[0m\u001b[0;34m(\u001b[0m\u001b[0mfunc\u001b[0m\u001b[0;34m,\u001b[0m \u001b[0miterable\u001b[0m\u001b[0;34m,\u001b[0m \u001b[0mmapstar\u001b[0m\u001b[0;34m,\u001b[0m \u001b[0mchunksize\u001b[0m\u001b[0;34m)\u001b[0m\u001b[0;34m.\u001b[0m\u001b[0mget\u001b[0m\u001b[0;34m(\u001b[0m\u001b[0;34m)\u001b[0m\u001b[0;34m\u001b[0m\u001b[0;34m\u001b[0m\u001b[0m\n\u001b[0m\u001b[1;32m    269\u001b[0m \u001b[0;34m\u001b[0m\u001b[0m\n\u001b[1;32m    270\u001b[0m     \u001b[0;32mdef\u001b[0m \u001b[0mstarmap\u001b[0m\u001b[0;34m(\u001b[0m\u001b[0mself\u001b[0m\u001b[0;34m,\u001b[0m \u001b[0mfunc\u001b[0m\u001b[0;34m,\u001b[0m \u001b[0miterable\u001b[0m\u001b[0;34m,\u001b[0m \u001b[0mchunksize\u001b[0m\u001b[0;34m=\u001b[0m\u001b[0;32mNone\u001b[0m\u001b[0;34m)\u001b[0m\u001b[0;34m:\u001b[0m\u001b[0;34m\u001b[0m\u001b[0;34m\u001b[0m\u001b[0m\n",
            "\u001b[0;32m/usr/lib/python3.7/multiprocessing/pool.py\u001b[0m in \u001b[0;36mget\u001b[0;34m(self, timeout)\u001b[0m\n\u001b[1;32m    655\u001b[0m             \u001b[0;32mreturn\u001b[0m \u001b[0mself\u001b[0m\u001b[0;34m.\u001b[0m\u001b[0m_value\u001b[0m\u001b[0;34m\u001b[0m\u001b[0;34m\u001b[0m\u001b[0m\n\u001b[1;32m    656\u001b[0m         \u001b[0;32melse\u001b[0m\u001b[0;34m:\u001b[0m\u001b[0;34m\u001b[0m\u001b[0;34m\u001b[0m\u001b[0m\n\u001b[0;32m--> 657\u001b[0;31m             \u001b[0;32mraise\u001b[0m \u001b[0mself\u001b[0m\u001b[0;34m.\u001b[0m\u001b[0m_value\u001b[0m\u001b[0;34m\u001b[0m\u001b[0;34m\u001b[0m\u001b[0m\n\u001b[0m\u001b[1;32m    658\u001b[0m \u001b[0;34m\u001b[0m\u001b[0m\n\u001b[1;32m    659\u001b[0m     \u001b[0;32mdef\u001b[0m \u001b[0m_set\u001b[0m\u001b[0;34m(\u001b[0m\u001b[0mself\u001b[0m\u001b[0;34m,\u001b[0m \u001b[0mi\u001b[0m\u001b[0;34m,\u001b[0m \u001b[0mobj\u001b[0m\u001b[0;34m)\u001b[0m\u001b[0;34m:\u001b[0m\u001b[0;34m\u001b[0m\u001b[0;34m\u001b[0m\u001b[0m\n",
            "\u001b[0;31mTypeError\u001b[0m: _plot_histogram() got an unexpected keyword argument 'title'"
          ]
        }
      ]
    },
    {
      "cell_type": "code",
      "metadata": {
        "id": "IdPfCk92TWpr"
      },
      "source": [
        "profile"
      ],
      "execution_count": null,
      "outputs": []
    },
    {
      "cell_type": "markdown",
      "metadata": {
        "id": "cgqDY5MCTWpt"
      },
      "source": [
        "#### Cálculos de média, média aparada, média ponderada e mediana"
      ]
    },
    {
      "cell_type": "code",
      "metadata": {
        "id": "2rWDMrskTWpt"
      },
      "source": [
        "math = df['math score'].sort_values(ascending=True)\n",
        "reading = df['reading score'].sort_values(ascending=True)\n",
        "writing = df['writing score'].sort_values(ascending=True)"
      ],
      "execution_count": 17,
      "outputs": []
    },
    {
      "cell_type": "code",
      "metadata": {
        "colab": {
          "base_uri": "https://localhost:8080/"
        },
        "id": "rDDCDfK7TWpt",
        "outputId": "5ec6ad11-e28c-4dbc-d455-4900153de74e"
      },
      "source": [
        "# Média Math\n",
        "avg_math = math.sum() / len(math)\n",
        "\n",
        "# Média Reading\n",
        "avg_reading = reading.sum() / len(reading)\n",
        "\n",
        "# Média Writing\n",
        "avg_writing = writing.sum() / len(writing)\n",
        "\n",
        "print(f\"Avg Math {avg_math} \\nAvg Writing {avg_writing} \\nAvg Reading {avg_reading}\")"
      ],
      "execution_count": 18,
      "outputs": [
        {
          "output_type": "stream",
          "text": [
            "Avg Math 66.089 \n",
            "Avg Writing 68.054 \n",
            "Avg Reading 69.169\n"
          ],
          "name": "stdout"
        }
      ]
    },
    {
      "cell_type": "code",
      "metadata": {
        "colab": {
          "base_uri": "https://localhost:8080/"
        },
        "id": "uUlV-1ATTWpu",
        "outputId": "272bfcc7-8590-477a-cabe-4828b7d039d1"
      },
      "source": [
        "# Mediana\n",
        "\n",
        "#median_math = math.median()\n",
        "#print(f\"Median Math: {median_math}\")\n",
        "\n",
        "#valor1 = math[500]\n",
        "#valor2 = math[501]\n",
        "\n",
        "valor1 = math[250:500]\n",
        "valor2 = math[501:751]\n",
        "\n",
        "mediana_manual = (valor1.sum() + valor2.sum()) / 500\n",
        "print (f\"Mediana Manual: {mediana_manual}\")\n"
      ],
      "execution_count": 19,
      "outputs": [
        {
          "output_type": "stream",
          "text": [
            "Mediana Manual: 66.446\n"
          ],
          "name": "stdout"
        }
      ]
    },
    {
      "cell_type": "code",
      "metadata": {
        "colab": {
          "base_uri": "https://localhost:8080/"
        },
        "id": "jf01pDCUTWpu",
        "outputId": "3af4c1a2-246a-46c6-e96b-f57cc5b78b1b"
      },
      "source": [
        "# Média aparada/Média truncada\n",
        "# retirar os 100 maiores e 100 menores elementos (representa 10% cada parte)\n",
        "math_range = math[100:900]\n",
        "writing_range = writing[100:900]\n",
        "reading_range = reading[100:900]\n",
        "\n",
        "aparada_math = math_range.sum() / len(math_range)\n",
        "aparada_writing = writing_range.sum() / len(writing_range)\n",
        "aparada_reading = reading_range.sum() / len(reading_range)\n",
        "\n",
        "print(f\"**Médias Aparada**\\nMath {aparada_math} \\nReading {aparada_reading} \\nWriting {aparada_writing}\")"
      ],
      "execution_count": 20,
      "outputs": [
        {
          "output_type": "stream",
          "text": [
            "**Médias Aparada**\n",
            "Math 66.3775 \n",
            "Reading 69.50125 \n",
            "Writing 68.4075\n"
          ],
          "name": "stdout"
        }
      ]
    },
    {
      "cell_type": "code",
      "metadata": {
        "colab": {
          "base_uri": "https://localhost:8080/"
        },
        "id": "myul3VX8TWpu",
        "outputId": "fc0efa0a-bc1d-4a2d-bd33-87987dcd16b8"
      },
      "source": [
        "# Média ponderada\n",
        "\n",
        "numbers_weights = [0.5, 1.5, 2, 3.5, 8]\n",
        "weights = random.choices(numbers_weights, weights=(15, 5, 2, 40, 6), k=1000)\n",
        "\n",
        "podenrada_math = sum(math*weights) / sum(weights)\n",
        "podenrada_reading = sum(reading*weights) / sum(weights)\n",
        "podenrada_writing = sum(writing*weights) / sum(weights)\n",
        "\n",
        "print(f\"**Médias Ponderadas**\\n Math:{podenrada_math} \\n Reading: {podenrada_reading} \\n Writing {podenrada_writing}\")"
      ],
      "execution_count": 21,
      "outputs": [
        {
          "output_type": "stream",
          "text": [
            "**Médias Ponderadas**\n",
            " Math:66.22372769332452 \n",
            " Reading: 69.29246530072703 \n",
            " Writing 68.194646397885\n"
          ],
          "name": "stdout"
        }
      ]
    },
    {
      "cell_type": "markdown",
      "metadata": {
        "id": "sOzu8M9HTWpu"
      },
      "source": [
        "#### Cálculos de variância, desvio padrão e MAD de cada disciplina;"
      ]
    },
    {
      "cell_type": "code",
      "metadata": {
        "colab": {
          "base_uri": "https://localhost:8080/"
        },
        "id": "Ohx2Xdj8TWpv",
        "outputId": "7d0894f3-cfa6-4682-ede0-179ef0138a51"
      },
      "source": [
        "#Variância\n",
        "#variance = st.variance(math)\n",
        "#print(f\"variance Math {variance}\")\n",
        "\n",
        "\n",
        "#Desvio padrão\n",
        "#stdev = st.stdev(math)\n",
        "#print(f\"tdev Math {stdev}\")\n",
        "##################################################\n",
        "\n",
        "dpMath = [(math[k] - avg_math) ** 2 for k in range(0, len(math))]\n",
        "\n",
        "#Soma dividida pela quantidade de elementos\n",
        "varMath = sum(dpMath) / len(math)\n",
        "\n",
        "dpMath = (varMath) ** 0.5\n",
        "\n",
        "print(f\"Variância: {varMath} \\nDesvio padrão: {dpMath}\")\n",
        "\n",
        "\n",
        "\n",
        "# Desvio Padrão Absoluto da Média (MAD - Mean Absolute Deviation)\n",
        "y = math_mad = math.mad()\n",
        "\n",
        "x = [(math[k] - avg_math) % avg_math for k in range(0, len(math))]\n",
        "\n",
        "\n",
        "\n",
        "#Desvio Padrão Médiano\n",
        "#mad_pd = pd.Series(math)\n",
        "#mad_pd = (mad_pd - mad_pd.median()).abs().median()\n",
        "\n",
        "\n",
        "\n",
        "print(f\"automatico: {y} \\n{x} \")\n",
        "\n",
        "\n"
      ],
      "execution_count": 22,
      "outputs": [
        {
          "output_type": "stream",
          "text": [
            "Variância: 229.68907900000048 \n",
            "Desvio padrão: 15.155496659628165\n",
            "automatico: 12.020245999999998 \n",
            "[5.911000000000001, 2.9110000000000014, 23.911, 47.0, 9.911000000000001, 4.911000000000001, 21.911, 40.0, 64.0, 38.0, 58.0, 40.0, 65.0, 11.911000000000001, 50.0, 2.9110000000000014, 21.911, 18.0, 46.0, 54.0, 66.0, 65.0, 44.0, 2.9110000000000014, 7.911000000000001, 6.911000000000001, 2.9110000000000014, 0.9110000000000014, 3.9110000000000014, 62.0, 2.9110000000000014, 63.0, 56.0, 40.0, 30.911, 14.911000000000001, 7.911000000000001, 50.0, 8.911000000000001, 57.0, 55.0, 58.0, 53.0, 59.0, 50.0, 65.0, 55.0, 66.0, 57.0, 15.911000000000001, 53.0, 10.911000000000001, 53.0, 21.911, 4.911000000000001, 33.0, 15.911000000000001, 52.0, 58.0, 0.0, 12.911000000000001, 39.0, 62.0, 2.9110000000000014, 59.0, 0.9110000000000014, 45.0, 60.0, 61.0, 39.0, 58.0, 63.0, 41.0, 61.0, 49.0, 44.0, 30.0, 13.911000000000001, 61.0, 62.0, 47.0, 49.0, 50.0, 5.911000000000001, 42.0, 6.911000000000001, 9.911000000000001, 4.911000000000001, 58.0, 6.911000000000001, 65.0, 27.0, 4.911000000000001, 43.0, 12.911000000000001, 11.911000000000001, 65.0, 63.0, 58.0, 65.0, 12.911000000000001, 1.9110000000000014, 18.911, 60.0, 31.911, 58.0, 20.911, 66.0, 52.0, 3.9110000000000014, 10.911000000000001, 62.0, 54.0, 51.0, 32.911, 17.911, 8.911000000000001, 11.911000000000001, 51.0, 55.0, 12.911000000000001, 24.911, 21.911, 63.0, 16.911, 20.911, 5.911000000000001, 65.0, 15.911000000000001, 51.0, 22.911, 53.0, 20.911, 8.911000000000001, 7.911000000000001, 58.0, 51.0, 3.9110000000000014, 59.0, 4.911000000000001, 9.911000000000001, 59.0, 42.0, 57.0, 21.911, 22.0, 21.911, 6.911000000000001, 1.9110000000000014, 33.911, 62.0, 10.911000000000001, 59.0, 54.0, 62.0, 3.9110000000000014, 66.0, 60.0, 61.0, 66.0, 15.911000000000001, 8.911000000000001, 49.0, 52.0, 14.911000000000001, 29.911, 53.0, 58.0, 1.9110000000000014, 0.9110000000000014, 5.911000000000001, 27.911, 12.911000000000001, 63.0, 43.0, 14.911000000000001, 46.0, 4.911000000000001, 52.0, 30.911, 62.0, 46.0, 50.0, 65.0, 45.0, 65.0, 13.911000000000001, 62.0, 48.0, 10.911000000000001, 66.0, 9.911000000000001, 62.0, 10.911000000000001, 2.9110000000000014, 61.0, 59.0, 55.0, 45.0, 11.911000000000001, 0.9110000000000014, 65.0, 2.9110000000000014, 57.0, 59.0, 7.911000000000001, 15.911000000000001, 14.911000000000001, 7.911000000000001, 58.0, 13.911000000000001, 35.0, 42.0, 60.0, 20.911, 17.911, 16.911, 34.0, 66.0, 61.0, 56.0, 20.911, 55.0, 19.911, 52.0, 45.0, 5.911000000000001, 57.0, 1.9110000000000014, 21.911, 9.911000000000001, 46.0, 0.9110000000000014, 25.911, 16.911, 13.911000000000001, 63.0, 64.0, 54.0, 17.911, 6.911000000000001, 13.911000000000001, 56.0, 59.0, 8.911000000000001, 18.911, 22.911, 58.0, 65.0, 1.9110000000000014, 47.0, 4.911000000000001, 60.0, 13.911000000000001, 54.0, 62.0, 64.0, 11.911000000000001, 3.9110000000000014, 65.0, 64.0, 12.911000000000001, 44.0, 32.911, 9.911000000000001, 59.0, 63.0, 2.9110000000000014, 21.911, 4.911000000000001, 2.9110000000000014, 58.0, 47.0, 65.0, 21.911, 16.911, 18.911, 59.0, 65.0, 6.911000000000001, 53.0, 45.0, 6.911000000000001, 3.9110000000000014, 37.0, 14.911000000000001, 30.911, 0.9110000000000014, 21.911, 10.911000000000001, 9.911000000000001, 19.911, 63.0, 65.0, 11.911000000000001, 0.9110000000000014, 46.0, 4.911000000000001, 40.0, 23.911, 14.911000000000001, 56.0, 0.9110000000000014, 13.911000000000001, 7.911000000000001, 2.9110000000000014, 32.911, 51.0, 53.0, 49.0, 6.911000000000001, 66.0, 0.9110000000000014, 1.9110000000000014, 59.0, 4.911000000000001, 10.911000000000001, 16.911, 63.0, 56.0, 0.9110000000000014, 8.911000000000001, 4.911000000000001, 43.0, 41.0, 15.911000000000001, 61.0, 28.0, 15.911000000000001, 41.0, 4.911000000000001, 47.0, 62.0, 23.911, 16.911, 61.0, 9.911000000000001, 49.0, 24.0, 35.0, 58.0, 61.0, 2.9110000000000014, 0.9110000000000014, 12.911000000000001, 5.911000000000001, 62.0, 10.911000000000001, 8.911000000000001, 20.911, 52.0, 66.0, 63.0, 46.0, 59.0, 61.0, 63.0, 42.0, 59.0, 13.911000000000001, 58.0, 18.911, 52.0, 27.0, 59.0, 49.0, 2.9110000000000014, 61.0, 44.0, 6.911000000000001, 17.911, 45.0, 7.911000000000001, 15.911000000000001, 59.0, 46.0, 13.911000000000001, 18.911, 4.911000000000001, 66.0, 13.911000000000001, 20.911, 12.911000000000001, 38.0, 38.0, 0.9110000000000014, 64.0, 57.0, 62.0, 6.911000000000001, 6.911000000000001, 10.911000000000001, 9.911000000000001, 57.0, 65.0, 48.0, 50.0, 18.911, 7.911000000000001, 60.0, 59.0, 53.0, 49.0, 21.911, 54.0, 63.0, 65.0, 15.911000000000001, 52.0, 20.911, 3.9110000000000014, 17.911, 4.911000000000001, 63.0, 51.0, 17.911, 4.911000000000001, 7.911000000000001, 1.9110000000000014, 57.0, 15.911000000000001, 57.0, 47.0, 59.0, 41.0, 62.0, 19.911, 2.9110000000000014, 65.0, 1.9110000000000014, 64.0, 61.0, 61.0, 47.0, 6.911000000000001, 50.0, 8.911000000000001, 8.911000000000001, 3.9110000000000014, 22.911, 0.9110000000000014, 11.911000000000001, 59.0, 6.911000000000001, 12.911000000000001, 0.9110000000000014, 2.9110000000000014, 19.911, 47.0, 14.911000000000001, 64.0, 33.911, 65.0, 65.0, 53.0, 37.0, 12.911000000000001, 53.0, 33.911, 5.911000000000001, 53.0, 54.0, 4.911000000000001, 10.911000000000001, 8.911000000000001, 17.911, 26.0, 5.911000000000001, 10.911000000000001, 24.911, 16.911, 63.0, 1.9110000000000014, 59.0, 23.911, 4.911000000000001, 9.911000000000001, 13.911000000000001, 55.0, 9.911000000000001, 6.911000000000001, 52.0, 1.9110000000000014, 59.0, 49.0, 3.9110000000000014, 61.0, 60.0, 64.0, 12.911000000000001, 65.0, 64.0, 16.911, 14.911000000000001, 54.0, 1.9110000000000014, 54.0, 59.0, 66.0, 9.911000000000001, 7.911000000000001, 27.911, 63.0, 28.911, 40.0, 15.911000000000001, 1.9110000000000014, 55.0, 12.911000000000001, 19.911, 9.911000000000001, 64.0, 62.0, 54.0, 10.911000000000001, 9.911000000000001, 7.911000000000001, 66.0, 66.0, 0.9110000000000014, 4.911000000000001, 24.911, 2.9110000000000014, 54.0, 53.0, 1.9110000000000014, 56.0, 36.0, 29.0, 62.0, 1.9110000000000014, 47.0, 62.0, 12.911000000000001, 6.911000000000001, 66.0, 51.0, 51.0, 18.911, 30.911, 8.911000000000001, 12.911000000000001, 14.911000000000001, 15.911000000000001, 64.0, 11.911000000000001, 25.911, 5.911000000000001, 62.0, 12.911000000000001, 12.911000000000001, 20.911, 40.0, 10.911000000000001, 53.0, 32.0, 55.0, 61.0, 53.0, 6.911000000000001, 7.911000000000001, 63.0, 29.911, 63.0, 48.0, 48.0, 25.911, 61.0, 63.0, 1.9110000000000014, 4.911000000000001, 24.911, 53.0, 50.0, 7.911000000000001, 40.0, 61.0, 14.911000000000001, 48.0, 53.0, 14.911000000000001, 10.911000000000001, 63.0, 6.911000000000001, 2.9110000000000014, 65.0, 55.0, 44.0, 54.0, 48.0, 58.0, 4.911000000000001, 1.9110000000000014, 7.911000000000001, 25.911, 56.0, 30.0, 53.0, 2.9110000000000014, 65.0, 54.0, 29.0, 9.911000000000001, 60.0, 17.911, 8.911000000000001, 18.911, 40.0, 61.0, 58.0, 2.9110000000000014, 58.0, 27.911, 65.0, 15.911000000000001, 60.0, 37.0, 21.911, 28.911, 65.0, 35.0, 62.0, 58.0, 33.911, 61.0, 33.911, 2.9110000000000014, 61.0, 49.0, 44.0, 0.9110000000000014, 12.911000000000001, 66.0, 8.911000000000001, 17.911, 4.911000000000001, 0.9110000000000014, 13.911000000000001, 19.911, 9.911000000000001, 41.0, 7.911000000000001, 5.911000000000001, 7.911000000000001, 3.9110000000000014, 65.0, 59.0, 64.0, 50.0, 2.9110000000000014, 51.0, 1.9110000000000014, 18.911, 65.0, 6.911000000000001, 62.0, 10.911000000000001, 2.9110000000000014, 43.0, 23.911, 7.911000000000001, 6.911000000000001, 55.0, 65.0, 13.911000000000001, 50.0, 63.0, 10.911000000000001, 6.911000000000001, 14.911000000000001, 66.0, 52.0, 2.9110000000000014, 65.0, 2.9110000000000014, 50.0, 6.911000000000001, 3.9110000000000014, 14.911000000000001, 63.0, 0.9110000000000014, 60.0, 62.0, 29.0, 62.0, 27.911, 18.911, 10.911000000000001, 53.0, 26.911, 49.0, 6.911000000000001, 66.0, 10.911000000000001, 49.0, 12.911000000000001, 8.911000000000001, 59.0, 57.0, 66.0, 12.911000000000001, 57.0, 20.911, 63.0, 59.0, 62.0, 46.0, 66.0, 22.911, 42.0, 26.911, 13.911000000000001, 31.911, 14.911000000000001, 60.0, 9.911000000000001, 6.911000000000001, 29.911, 9.911000000000001, 24.911, 62.0, 55.0, 7.911000000000001, 50.0, 47.0, 14.911000000000001, 65.0, 1.9110000000000014, 6.911000000000001, 53.0, 1.9110000000000014, 55.0, 20.911, 55.0, 53.0, 0.9110000000000014, 25.911, 53.0, 14.911000000000001, 61.0, 13.911000000000001, 37.0, 14.911000000000001, 59.0, 55.0, 5.911000000000001, 2.9110000000000014, 2.9110000000000014, 50.0, 20.911, 4.911000000000001, 1.9110000000000014, 12.911000000000001, 10.911000000000001, 58.0, 17.911, 55.0, 3.9110000000000014, 52.0, 2.9110000000000014, 53.0, 48.0, 11.911000000000001, 62.0, 60.0, 7.911000000000001, 58.0, 9.911000000000001, 1.9110000000000014, 58.0, 52.0, 8.911000000000001, 52.0, 62.0, 66.0, 49.0, 66.0, 35.0, 5.911000000000001, 27.911, 46.0, 10.911000000000001, 9.911000000000001, 52.0, 24.911, 32.0, 5.911000000000001, 19.0, 1.9110000000000014, 52.0, 48.0, 60.0, 66.0, 22.911, 42.0, 57.0, 3.9110000000000014, 3.9110000000000014, 2.9110000000000014, 52.0, 0.9110000000000014, 9.911000000000001, 20.911, 15.911000000000001, 6.911000000000001, 8.911000000000001, 64.0, 41.0, 23.911, 59.0, 51.0, 45.0, 54.0, 20.911, 5.911000000000001, 27.911, 45.0, 61.0, 60.0, 10.911000000000001, 18.911, 11.911000000000001, 49.0, 4.911000000000001, 48.0, 62.0, 56.0, 65.0, 2.9110000000000014, 1.9110000000000014, 61.0, 7.911000000000001, 64.0, 10.911000000000001, 58.0, 60.0, 6.911000000000001, 8.911000000000001, 58.0, 66.0, 39.0, 64.0, 23.0, 7.911000000000001, 40.0, 23.911, 24.911, 64.0, 59.0, 13.911000000000001, 4.911000000000001, 61.0, 20.911, 15.911000000000001, 62.0, 30.911, 8.911000000000001, 65.0, 52.0, 20.911, 53.0, 14.911000000000001, 39.0, 4.911000000000001, 30.911, 15.911000000000001, 59.0, 61.0, 11.911000000000001, 49.0, 59.0, 3.9110000000000014, 15.911000000000001, 23.911, 43.0, 13.911000000000001, 14.911000000000001, 57.0, 59.0, 64.0, 63.0, 4.911000000000001, 64.0, 55.0, 51.0, 62.0, 26.911, 54.0, 2.9110000000000014, 44.0, 19.911, 18.911, 50.0, 21.911, 59.0, 32.0, 36.0, 63.0, 0.9110000000000014, 65.0, 18.911, 6.911000000000001, 34.0, 26.911, 0.9110000000000014, 21.911, 57.0, 12.911000000000001, 0.9110000000000014, 3.9110000000000014, 50.0, 2.9110000000000014, 52.0, 47.0, 46.0, 1.9110000000000014, 33.911, 44.0, 57.0, 24.911, 2.9110000000000014, 35.0, 5.911000000000001, 54.0, 7.911000000000001, 7.911000000000001, 64.0, 65.0, 46.0, 48.0, 0.9110000000000014, 62.0, 61.0, 3.9110000000000014, 31.911, 3.9110000000000014, 0.9110000000000014, 57.0, 18.911, 10.911000000000001, 5.911000000000001, 11.911000000000001, 14.911000000000001, 61.0, 58.0, 54.0, 15.911000000000001, 49.0, 49.0, 57.0, 27.911, 8.911000000000001, 7.911000000000001, 58.0, 62.0, 5.911000000000001, 17.911, 25.911, 45.0, 8.911000000000001, 56.0, 48.0, 33.911, 65.0, 5.911000000000001, 62.0, 66.0, 63.0, 1.9110000000000014, 8.911000000000001, 22.911, 11.911000000000001, 53.0, 49.0, 54.0, 64.0, 60.0, 62.0, 55.0, 24.911, 8.0, 14.911000000000001, 12.911000000000001, 11.911000000000001, 7.911000000000001, 57.0, 40.0, 14.911000000000001, 44.0, 0.9110000000000014, 19.911, 65.0, 55.0, 62.0, 63.0, 21.911, 62.0, 59.0, 1.9110000000000014, 10.911000000000001] \n"
          ],
          "name": "stdout"
        }
      ]
    },
    {
      "cell_type": "markdown",
      "metadata": {
        "id": "GdoPyjswTWpv"
      },
      "source": [
        "#### Exibição dos histogramas de cada disciplina;"
      ]
    },
    {
      "cell_type": "code",
      "metadata": {
        "colab": {
          "base_uri": "https://localhost:8080/",
          "height": 1000
        },
        "id": "vbT_gr4pTWpv",
        "outputId": "e4510ba8-0a36-44c8-93f3-28279d84b106"
      },
      "source": [
        "math_hist    = df.hist(column='math score',    bins=50, grid=False, figsize=(15,9), color='#9186bf', rwidth=0.9)\n",
        "reading_hist = df.hist(column='reading score', bins=50, grid=False, figsize=(15,9), color='#86bf91', rwidth=0.9)\n",
        "writing_hist = df.hist(column='writing score', bins=50, grid=False, figsize=(15,9), color='#bf86b4', rwidth=0.9)"
      ],
      "execution_count": 23,
      "outputs": [
        {
          "output_type": "display_data",
          "data": {
            "image/png": "[encoded data removed]",
            "text/plain": [
              "<Figure size 1500x900 with 1 Axes>"
            ]
          },
          "metadata": {
            "tags": []
          }
        },
        {
          "output_type": "display_data",
          "data": {
            "image/png": "[encoded data removed]",
            "text/plain": [
              "<Figure size 1500x900 with 1 Axes>"
            ]
          },
          "metadata": {
            "tags": []
          }
        },
        {
          "output_type": "display_data",
          "data": {
            "image/png": "[encoded data removed]",
            "text/plain": [
              "<Figure size 1500x900 with 1 Axes>"
            ]
          },
          "metadata": {
            "tags": []
          }
        }
      ]
    },
    {
      "cell_type": "markdown",
      "metadata": {
        "id": "gORTBtplTWpv"
      },
      "source": [
        "#### Cálculo da matriz de correlação e exibição do respectivo mapa de calor de todas as disciplinas;"
      ]
    },
    {
      "cell_type": "code",
      "metadata": {
        "id": "iOTxN5UrTWpv"
      },
      "source": [
        ""
      ],
      "execution_count": null,
      "outputs": []
    },
    {
      "cell_type": "markdown",
      "metadata": {
        "id": "po2vgBonTWpv"
      },
      "source": [
        "#### Visualização 3D das notas das disciplinas separadas por cada grupo de estudantes de acordo com \"gender\", \"race/ethnicity\", \"parental level of education\", \"lunch\" e \"test preparation course\". Para cada um desses parâmetros, realize uma única visualização (colocando os pontos de cada grupo em uma cor). Ao final, discorra se há algum padrão que pode ser detectado nessas análises;"
      ]
    },
    {
      "cell_type": "markdown",
      "metadata": {
        "id": "spxUWU-yTWpw"
      },
      "source": [
        "#### Escreva suas conclusões sobre o dataset e quais métricas você julga mais interessantes, ou seja, forneça informações úteis para a tomada de decisões de um diretor de escola."
      ]
    },
    {
      "cell_type": "markdown",
      "metadata": {
        "id": "uRf4UrtLTWpw"
      },
      "source": [
        "referencias\n",
        "https://github.com/janiosl/python.ds/blob/master/estatistica/estatistica_basica.ipynb\n",
        "\n",
        "https://stackoverflow.com/questions/60092641/mad-results-differ-in-pandas-scipy-and-numpy"
      ]
    },
    {
      "cell_type": "code",
      "metadata": {
        "id": "EqONtxCHTWpw"
      },
      "source": [
        ""
      ],
      "execution_count": null,
      "outputs": []
    }
  ]
}